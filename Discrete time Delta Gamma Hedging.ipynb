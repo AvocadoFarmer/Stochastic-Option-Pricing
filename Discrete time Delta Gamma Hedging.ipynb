{
 "cells": [
  {
   "cell_type": "markdown",
   "metadata": {},
   "source": [
    "# Discrete time Delta Gamma Hedging"
   ]
  },
  {
   "cell_type": "markdown",
   "metadata": {},
   "source": [
    "@auther: Linlong (Liam) Wu\n",
    "@date: 2022.11.20\n",
    "@version: 1"
   ]
  },
  {
   "cell_type": "markdown",
   "metadata": {},
   "source": [
    "**Functions and model set-ups**"
   ]
  },
  {
   "cell_type": "code",
   "execution_count": 1,
   "metadata": {},
   "outputs": [],
   "source": [
    "import numpy as np\n",
    "import pandas as pd\n",
    "np.seterr(divide='ignore', invalid='ignore')\n",
    "from scipy.stats import norm\n",
    "import pdb\n",
    "import matplotlib.pyplot as plt \n",
    "import scipy.stats\n",
    "from tqdm import tqdm\n",
    "import seaborn as sns\n",
    "\n",
    "#np.random.seed(123)\n",
    "# creating black scholes price and greeks\n",
    "class BS():\n",
    "    \n",
    "    def CallPrice(S, T, K, sigma, r):\n",
    "        \n",
    "        dp = (np.log(S/K) + (r+0.5*sigma**2)*T)/(np.sqrt(T)*sigma)\n",
    "        dm = (np.log(S/K) + (r-0.5*sigma**2)*T)/(np.sqrt(T)*sigma)\n",
    "        \n",
    "        return S*norm.cdf(dp) - K*np.exp(-r*T)*norm.cdf(dm)\n",
    "    \n",
    "    def PutPrice(S, T, K, sigma, r):\n",
    "        \n",
    "        dp = (np.log(S/K) + (r+0.5*sigma**2)*T)/(np.sqrt(T)*sigma)\n",
    "        dm = (np.log(S/K) + (r-0.5*sigma**2)*T)/(np.sqrt(T)*sigma)\n",
    "        \n",
    "        return K*np.exp(-r*T)*norm.cdf(-dm) - S*norm.cdf(-dp)\n",
    "    \n",
    "    \n",
    "    def CallDelta(S, T, K, sigma, r):\n",
    "        \n",
    "        dp = (np.log(S/K) + (r+0.5*sigma**2)*T)/(np.sqrt(T)*sigma)\n",
    "        return norm.cdf(dp)\n",
    "    \n",
    "    def PutDelta(S, T, K, sigma, r):\n",
    "        \n",
    "        return BS.CallDelta(S, T, K, sigma, r)-1\n",
    "    \n",
    "    def CallGamma(S, T, K, sigma, r):\n",
    "        \n",
    "        dp = (np.log(S/K) + (r+0.5*sigma**2)*T)/np.sqrt(T)/sigma\n",
    "        \n",
    "        return norm.pdf(dp)/(S*sigma*np.sqrt(T))\n",
    "    \n",
    "    def PutGamma(S, T, K, sigma, r):\n",
    "        \n",
    "        return BS.CallGamma(S, T, K, sigma, r)# get s\n",
    "    \n",
    "def get_dS(dt, mu, sigma, z, S_last):\n",
    "    return (mu * S_last * dt + sigma * S_last * z)\n",
    "\n",
    "# get m\n",
    "def get_M(M_last, r, dt, delta, delta_last, S, phi_equity, beta, beta_last, O, phi_option):\n",
    "    return M_last * np.exp(r * dt) - (delta - delta_last) * S - phi_equity * np.abs(delta - delta_last) \\\n",
    "        - (beta-beta_last) * O - phi_option * np.abs(beta-beta_last)\n",
    "\n",
    "# simulate the stock price movements\n",
    "def stock_sim(S0, Nsim, timestep, mu, sigma, dt):\n",
    "    stock = np.zeros((Nsim, timestep + 1))\n",
    "    stock[:,0] = S0\n",
    "    for i in range(1, timestep+1):\n",
    "        z = np.random.normal(0, np.sqrt(1/365), (Nsim, timestep+1))\n",
    "        stock[:, i] = stock[:, i-1] + get_dS(dt, mu, sigma, z[:, i-1], stock[:, i-1])\n",
    "    return stock\n"
   ]
  },
  {
   "cell_type": "markdown",
   "metadata": {},
   "source": [
    "**Parameters**"
   ]
  },
  {
   "cell_type": "code",
   "execution_count": 2,
   "metadata": {},
   "outputs": [],
   "source": [
    "phi_equity = 0.005\n",
    "phi_option = 0.01\n",
    "timestep = int(365/4)\n",
    "T_call = 0.5 #Maturity for the call option\n",
    "S0=100\n",
    "K=100\n",
    "Nsim=10000\n",
    "mu = 0.1\n",
    "sigma = 0.2\n",
    "r = 0.02\n",
    "T = 0.25"
   ]
  },
  {
   "cell_type": "markdown",
   "metadata": {},
   "source": [
    "# 1. Delta_hedging"
   ]
  },
  {
   "cell_type": "markdown",
   "metadata": {},
   "source": [
    "**Modelling**"
   ]
  },
  {
   "cell_type": "code",
   "execution_count": 3,
   "metadata": {},
   "outputs": [],
   "source": [
    "def Delta_hedging_Time(S0, Nsim, timestep, T, K, mu, sigma, r):\n",
    "    S = stock_sim(S0, Nsim, timestep, mu, sigma, 1/365)\n",
    "    Delta_time_based = np.full((Nsim, timestep+1), np.nan) # delta positio\n",
    "    M_time_based = np.full((Nsim, timestep+1), np.nan) # money account\n",
    "    for i in range(1, timestep+1):\n",
    "        Delta_time_based[:, 0] = BS.PutDelta(S[:, 0], T, K, sigma, r)\n",
    "        Delta_time_based[:, i] = BS.PutDelta(S[:, i], T-i/365, K, sigma, r)\n",
    "        M_time_based[:, 0] = BS.PutPrice(S0, T, K, sigma, r) - Delta_time_based[:, 0] * S0 - phi_equity * np.abs(Delta_time_based[:, 0])\n",
    "        M_time_based[:, i] = get_M(M_time_based[:, i-1], r, 1/365, Delta_time_based[:, i], Delta_time_based[:, i-1], S[:, i], phi_equity,0,0,0,0)\n",
    "    # at maturity, liquidate the put and hedge position, pay the difference in strike and stock price if counterparty exercise\n",
    "    M_time_based[:, -1] = M_time_based[:, -2] * np.exp(r/365) + \\\n",
    "            Delta_time_based[:, -2] * S[:, -1] - phi_equity * np.abs(Delta_time_based[:, -2]) \\\n",
    "                + (S[:, -1] < K) * (- K + S[:, -1])\n",
    "    M_array = M_time_based[:, -1]\n",
    "    '''plt.hist(M_array,bins = \"auto\")\n",
    "    plt.xlabel('Profit or Loss at time T')\n",
    "    plt.ylabel('count')\n",
    "    plt.title('P/L Distribution, Time-based Delta Hedge')\n",
    "    plt.savefig('Profit Distribition, Time-based Delta Hedge.png')'''\n",
    "    # calculate the VaR and adjusted price\n",
    "    confidence = 10\n",
    "    mean_hedge = np.average(M_array)\n",
    "    std_hedge = np.std(M_array)\n",
    "    VaR = np.percentile(M_array, confidence)\n",
    "    CVaR = np.mean(M_array[M_array<=VaR])\n",
    "    m = - CVaR - 0.02\n",
    "    m_discounted = m * np.exp(-r * T)\n",
    "    price_CVaR_Adjusted = BS.PutPrice(S0, T, K, sigma, r) + m_discounted\n",
    "    print(\"Calculated CVaR is {}, the price to chrage is ${}\".format(CVaR, price_CVaR_Adjusted))\n",
    "    results = pd.DataFrame({'Mean': mean_hedge, 'Standard deviation': std_hedge, 'VAR': VaR, 'CVAR': CVaR,'Adjusted Price': price_CVaR_Adjusted}, index=[0])\n",
    "    return(M_array, results)\n",
    "\n",
    "\n",
    "def Delta_hedging_Move(S0, Nsim, timestep, T, K, mu, sigma, r, bandwidth):\n",
    "    ub = np.full(Nsim, -0.01)\n",
    "    lb = np.full(Nsim, -0.99)\n",
    "\n",
    "    S = stock_sim(S0, Nsim, timestep, mu, sigma, 1/365)\n",
    "    Delta_move_based = np.full((Nsim, timestep+1), np.nan)\n",
    "    M_move_based = np.full((Nsim, timestep+1), np.nan)\n",
    "    Delta_move_based[:, 0] = BS.PutDelta(S[:, 0], T, K, sigma, r)\n",
    "    M_move_based[:, 0] = BS.PutPrice(S0, T, K, sigma, r) - Delta_move_based[:, 0] * S0 - phi_equity * np.abs(Delta_move_based[:, 0])\n",
    "    upper_band = Delta_move_based[:, 0] + bandwidth/2 # set the upper band around the delta\n",
    "    lower_band = Delta_move_based[:, 0] - bandwidth/2 # set the lower band around the delta\n",
    "    \n",
    "    for i in range(1, timestep+1):\n",
    "        # mark the put delta using a temp variable\n",
    "        temp = BS.PutDelta(S[:, i], T-i/365, K, sigma, r)\n",
    "        # locate the positions of the new put delta\n",
    "        out_ub = np.greater_equal(temp,ub)\n",
    "        out_lb = np.less_equal(temp,lb)\n",
    "        out_uband = (1-out_ub)*(np.greater_equal(temp,upper_band))\n",
    "        out_lband = (1-out_lb)*(np.less_equal(temp,lower_band))\n",
    "        within_band = (np.greater(temp, lower_band))*(np.less(temp, upper_band))\n",
    "        # if within band or outside outer boundaries, delta holdings remain unchanged, otherwise update delta\n",
    "        Delta_move_based[:, i] = Delta_move_based[:, i-1]*(within_band+out_ub+out_lb) + temp*(out_uband+out_lband)\n",
    "        # reset upper band\n",
    "        upper_band = Delta_move_based[:, i]+bandwidth/2\n",
    "        upper_band[np.where(out_ub)] = 0\n",
    "        upper_band[np.where(out_lb)] = -0.99\n",
    "        # reset lower band\n",
    "        lower_band = Delta_move_based[:, i]-bandwidth/2\n",
    "        lower_band[np.where(out_ub)] = -0.01\n",
    "        lower_band[np.where(out_lb)] = -1\n",
    "        # if within band or outside outer boundaries, accure interest on the money account, otherwise re-balance and mark the PnL\n",
    "        M_move_based[:, i] = M_move_based[:, i-1]*np.exp(r/365)*(within_band+out_ub+out_lb) +\\\n",
    "            get_M(M_move_based[:, i-1], r, 1/365, temp, Delta_move_based[:, i-1], S[:, i], phi_equity,0,0,0,0)*(out_uband+out_lband)\n",
    "    # at maturity, liquidate the put and hedge position, pay the difference in strike and stock price if counterparty exercise\n",
    "    M_move_based[:, -1] = M_move_based[:, -2] * np.exp(r/365) + \\\n",
    "            Delta_move_based[:, -2] * S[:, -1] - phi_equity * np.abs(Delta_move_based[:, -2]) \\\n",
    "                + (S[:, -1] < K) * (- K + S[:, -1])\n",
    "    \n",
    "    M_array = M_move_based[:, -1]\n",
    "    '''plt.hist(M_array, bins = \"auto\")\n",
    "    plt.xlabel('Profit or Loss at time T')\n",
    "    plt.ylabel('count')\n",
    "    plt.title('P/L Distribution, Move-based Delta Hedge')\n",
    "    plt.savefig('Profit Distribition, Move-based Delta Hedge.png')'''\n",
    "    # calculate the VaR and adjusted price\n",
    "    confidence = 10\n",
    "    mean_hedge = np.average(M_array)\n",
    "    std_hedge = np.std(M_array)\n",
    "    VaR = np.percentile(M_array, confidence)\n",
    "    CVaR = np.mean(M_array[M_array<=VaR])\n",
    "    m = - CVaR - 0.02\n",
    "    m_discounted = m * np.exp(-r * T)\n",
    "    price_CVaR_Adjusted = BS.PutPrice(S0, T, K, sigma, r) + m_discounted\n",
    "    print(\"Calculated CVaR is {}, the price to chrage is ${}\".format(CVaR, price_CVaR_Adjusted))\n",
    "    results = pd.DataFrame({'Mean': mean_hedge, 'Standard deviation': std_hedge, 'VAR': VaR, 'CVAR': CVaR,'Adjusted Price': price_CVaR_Adjusted, \"Bandwidth\": bandwidth}, index=[0])\n",
    "    return(M_array, results)"
   ]
  },
  {
   "cell_type": "markdown",
   "metadata": {},
   "source": [
    "**Time_based**"
   ]
  },
  {
   "cell_type": "code",
   "execution_count": 4,
   "metadata": {},
   "outputs": [
    {
     "name": "stdout",
     "output_type": "stream",
     "text": [
      "Calculated CVaR is -0.6822695335344608, the price to chrage is $4.392374137792926\n"
     ]
    },
    {
     "data": {
      "text/html": [
       "<div>\n",
       "<style scoped>\n",
       "    .dataframe tbody tr th:only-of-type {\n",
       "        vertical-align: middle;\n",
       "    }\n",
       "\n",
       "    .dataframe tbody tr th {\n",
       "        vertical-align: top;\n",
       "    }\n",
       "\n",
       "    .dataframe thead th {\n",
       "        text-align: right;\n",
       "    }\n",
       "</style>\n",
       "<table border=\"1\" class=\"dataframe\">\n",
       "  <thead>\n",
       "    <tr style=\"text-align: right;\">\n",
       "      <th></th>\n",
       "      <th>Mean</th>\n",
       "      <th>Standard deviation</th>\n",
       "      <th>VAR</th>\n",
       "      <th>CVAR</th>\n",
       "      <th>Adjusted Price</th>\n",
       "    </tr>\n",
       "  </thead>\n",
       "  <tbody>\n",
       "    <tr>\n",
       "      <th>0</th>\n",
       "      <td>-0.015208</td>\n",
       "      <td>0.363169</td>\n",
       "      <td>-0.448531</td>\n",
       "      <td>-0.68227</td>\n",
       "      <td>4.392374</td>\n",
       "    </tr>\n",
       "  </tbody>\n",
       "</table>\n",
       "</div>"
      ],
      "text/plain": [
       "       Mean  Standard deviation       VAR     CVAR  Adjusted Price\n",
       "0 -0.015208            0.363169 -0.448531 -0.68227        4.392374"
      ]
     },
     "metadata": {},
     "output_type": "display_data"
    },
    {
     "name": "stdout",
     "output_type": "stream",
     "text": [
      "Calculated CVaR is -0.6709118264653047, the price to chrage is $4.381073077524101\n"
     ]
    },
    {
     "data": {
      "image/png": "[encoded data removed]",
      "text/plain": [
       "<Figure size 432x288 with 1 Axes>"
      ]
     },
     "metadata": {
      "needs_background": "light"
     },
     "output_type": "display_data"
    }
   ],
   "source": [
    "display(Delta_hedging_Time(S0, Nsim, timestep, T, K, mu, sigma, r)[1]) # show the dynamics of Delta hedging\n",
    "M_array = Delta_hedging_Time(S0, Nsim, timestep, T, K, mu, sigma, r)[0]\n",
    "plt.hist(M_array,bins = \"auto\") # plot the PnL at maturity\n",
    "plt.xlabel('Profit or Loss at time T')\n",
    "plt.ylabel('count')\n",
    "plt.title('P/L Distribution, Time-based Delta Hedge')\n",
    "plt.savefig('Profit Distribition, Time-based Delta Hedge.png')"
   ]
  },
  {
   "cell_type": "markdown",
   "metadata": {},
   "source": [
    "**Move_based**"
   ]
  },
  {
   "cell_type": "code",
   "execution_count": 5,
   "metadata": {},
   "outputs": [
    {
     "name": "stdout",
     "output_type": "stream",
     "text": [
      "Calculated CVaR is -0.8040311113405433, the price to chrage is $4.513528427196169\n"
     ]
    },
    {
     "data": {
      "text/html": [
       "<div>\n",
       "<style scoped>\n",
       "    .dataframe tbody tr th:only-of-type {\n",
       "        vertical-align: middle;\n",
       "    }\n",
       "\n",
       "    .dataframe tbody tr th {\n",
       "        vertical-align: top;\n",
       "    }\n",
       "\n",
       "    .dataframe thead th {\n",
       "        text-align: right;\n",
       "    }\n",
       "</style>\n",
       "<table border=\"1\" class=\"dataframe\">\n",
       "  <thead>\n",
       "    <tr style=\"text-align: right;\">\n",
       "      <th></th>\n",
       "      <th>Mean</th>\n",
       "      <th>Standard deviation</th>\n",
       "      <th>VAR</th>\n",
       "      <th>CVAR</th>\n",
       "      <th>Adjusted Price</th>\n",
       "      <th>Bandwidth</th>\n",
       "    </tr>\n",
       "  </thead>\n",
       "  <tbody>\n",
       "    <tr>\n",
       "      <th>0</th>\n",
       "      <td>-0.01655</td>\n",
       "      <td>0.432628</td>\n",
       "      <td>-0.549938</td>\n",
       "      <td>-0.804031</td>\n",
       "      <td>4.513528</td>\n",
       "      <td>0.1</td>\n",
       "    </tr>\n",
       "  </tbody>\n",
       "</table>\n",
       "</div>"
      ],
      "text/plain": [
       "      Mean  Standard deviation       VAR      CVAR  Adjusted Price  Bandwidth\n",
       "0 -0.01655            0.432628 -0.549938 -0.804031        4.513528        0.1"
      ]
     },
     "metadata": {},
     "output_type": "display_data"
    },
    {
     "name": "stdout",
     "output_type": "stream",
     "text": [
      "Calculated CVaR is -0.7943757822376013, the price to chrage is $4.503921254248029\n"
     ]
    },
    {
     "data": {
      "image/png": "[encoded data removed]",
      "text/plain": [
       "<Figure size 432x288 with 1 Axes>"
      ]
     },
     "metadata": {
      "needs_background": "light"
     },
     "output_type": "display_data"
    }
   ],
   "source": [
    "display(Delta_hedging_Move(S0, Nsim, timestep, T, K, mu, sigma, r, 0.1)[1])\n",
    "M_array = Delta_hedging_Move(S0, Nsim, timestep, T, K, mu, sigma, r, 0.1)[0]\n",
    "plt.hist(M_array, bins = \"auto\")\n",
    "plt.xlabel('Profit or Loss at time T')\n",
    "plt.ylabel('count')\n",
    "plt.title('P/L Distribution, Move-based Delta Hedge')\n",
    "plt.savefig('Profit Distribition, Move-based Delta Hedge.png')"
   ]
  },
  {
   "cell_type": "markdown",
   "metadata": {},
   "source": [
    "# 2. Delta_Gamma Hedging"
   ]
  },
  {
   "cell_type": "markdown",
   "metadata": {},
   "source": [
    "**Modelling**"
   ]
  },
  {
   "cell_type": "code",
   "execution_count": 6,
   "metadata": {},
   "outputs": [],
   "source": [
    "def Delta_Gamma_hedging_Time(S0, Nsim, timestep, T, K, mu, sigma, r):\n",
    "    S = stock_sim(S0, Nsim, timestep, mu, sigma, 1/365) # stock price movements\n",
    "    O = np.zeros((Nsim, timestep+1)) # call option price movements\n",
    "    for j in range(timestep+1):\n",
    "        O[:, j] = BS.CallPrice(S[:, j], T_call-j/365, K, sigma, r)\n",
    "    DeltaP_time_based = np.full((Nsim, timestep+1), np.nan)\n",
    "    DeltaC_time_based = np.full((Nsim, timestep+1), np.nan)\n",
    "    GammaP_time_based = np.full((Nsim, timestep+1), np.nan)\n",
    "    GammaC_time_based = np.full((Nsim, timestep+1), np.nan)\n",
    "\n",
    "    alpha = np.full((Nsim, timestep+1), np.nan) # alpha denotes the holdings in stock\n",
    "    beta = np.full((Nsim, timestep+1), np.nan) # beta denotes the holdings of call option\n",
    "    M_time_based = np.full((Nsim, timestep+1), np.nan)\n",
    "    for i in range(1, timestep+1):\n",
    "        DeltaP_time_based[:, 0] = BS.PutDelta(S[:, 0], T, K, sigma, r)\n",
    "        DeltaP_time_based[:, i] = BS.PutDelta(S[:, i], T-i/365, K, sigma, r)\n",
    "        DeltaC_time_based[:, 0] = BS.CallDelta(S[:, 0], T_call, K, sigma, r)\n",
    "        DeltaC_time_based[:, i] = BS.CallDelta(S[:, i], T_call-i/365, K, sigma, r)\n",
    "\n",
    "        GammaP_time_based[:, 0] = BS.PutGamma(S[:, 0], T, K, sigma, r)\n",
    "        GammaP_time_based[:, i] = BS.PutGamma(S[:, i], T-i/365, K, sigma, r)\n",
    "        GammaC_time_based[:, 0] = BS.CallGamma(S[:, 0], T_call, K, sigma, r)\n",
    "        GammaC_time_based[:, i] = BS.CallGamma(S[:, i], T_call-i/365, K, sigma, r)\n",
    "        # beta is calculated as the fraction of put Gamma and call Gamma\n",
    "        beta[:, 0] = GammaP_time_based[:, 0]/GammaC_time_based[:, 0]\n",
    "        beta[:, i] = GammaP_time_based[:, i]/GammaC_time_based[:, i]\n",
    "        # to hedge against delta exposure, alpha must equal the difference between put delta and call delta\n",
    "        alpha[:, 0] = DeltaP_time_based[:, 0] - beta[:, 0]*DeltaC_time_based[:, 0]\n",
    "        alpha[:, i] = DeltaP_time_based[:, i] - beta[:, i]*DeltaC_time_based[:, i]\n",
    "\n",
    "        M_time_based[:, 0] = BS.PutPrice(S0, T, K, sigma, r) - alpha[:, 0] * S0 - phi_equity * np.abs(alpha[:, 0])\\\n",
    "            - beta[:, 0] * O[:, 0] - phi_option * np.abs(beta[:, 0])\n",
    "        M_time_based[:, i] = get_M(M_time_based[:, i-1], r, 1/365, alpha[:, i], alpha[:, i-1], S[:, i], phi_equity, beta[:,i], beta[:,i-1], O[:,i], phi_option)\n",
    "    \n",
    "    #M_time_based[:, -2] = M_time_based[:, -3] * np.exp(r/365) + beta[:, -3] * O[:, -2] - phi_option * np.abs(beta[:, -3])\n",
    "    # at maturity, liquidate the put and hedge position, pay the difference in strike and stock price if counterparty exercise\n",
    "    M_time_based[:, -1] = M_time_based[:, -2] * np.exp(r/365) +\\\n",
    "            alpha[:, -2] * S[:, -1] - phi_equity * np.abs(alpha[:, -2]) \\\n",
    "                + beta[:, -2] * O[:, -1] - phi_option * np.abs(beta[:, -2]) \\\n",
    "                    + (S[:, -1] < K) * (- K + S[:, -1])\n",
    "                \n",
    "    M_array = M_time_based[:, -1]\n",
    "    '''plt.hist(M_array, bins = \"auto\")\n",
    "    plt.xlabel('Profit or Loss at time T')\n",
    "    plt.ylabel('count')\n",
    "    plt.title('P/L Distribution, Time-based Delta_Gamma Hedge')\n",
    "    plt.savefig('Profit Distribition, Time-based Delta_Gamma Hedge.png')'''\n",
    "    # calculate VaR and adjusted price\n",
    "    confidence = 10\n",
    "    mean_hedge = np.average(M_array)\n",
    "    std_hedge = np.std(M_array)\n",
    "    VaR = np.percentile(M_array, confidence)\n",
    "    CVaR = np.mean(M_array[M_array<=VaR])\n",
    "    m = - CVaR - 0.02\n",
    "    m_discounted = m * np.exp(-r * T)\n",
    "    price_CVaR_Adjusted = BS.PutPrice(S0, T, K, sigma, r) + m_discounted\n",
    "    print(\"Calculated CVaR is {}, the price to chrage is ${}\".format(CVaR, price_CVaR_Adjusted))\n",
    "    results = pd.DataFrame({'Mean': mean_hedge, 'Standard deviation': std_hedge, 'VAR': VaR, 'CVAR': CVaR,'Adjusted Price': price_CVaR_Adjusted}, index=[0])\n",
    "    return(M_array, results)\n",
    " \n",
    "def Delta_Gamma_hedging_Move_Deviation_based(S0, Nsim, timestep, T, K, mu, sigma, r, bandwidth):\n",
    "    ub = np.full(Nsim, -0.01)\n",
    "    lb = np.full(Nsim, -0.99)\n",
    "\n",
    "    S = stock_sim(S0, Nsim, timestep, mu, sigma, 1/365)\n",
    "    O = np.zeros((Nsim, timestep+1))\n",
    "    for j in range(timestep+1):\n",
    "        O[:, j] = BS.CallPrice(S[:, j], T_call-j/365, K, sigma, r)\n",
    "    DeltaP_move_based = np.full((Nsim, timestep+1), np.nan)\n",
    "    DeltaC_move_based = np.full((Nsim, timestep+1), np.nan)\n",
    "    GammaP_move_based = np.full((Nsim, timestep+1), np.nan)\n",
    "    GammaC_move_based = np.full((Nsim, timestep+1), np.nan)\n",
    "\n",
    "    alpha = np.full((Nsim, timestep+1), np.nan)\n",
    "    beta = np.full((Nsim, timestep+1), np.nan)\n",
    "    M_move_based = np.full((Nsim, timestep+1), np.nan)\n",
    "    DeltaP_move_based[:, 0] = BS.PutDelta(S[:, 0], T, K, sigma, r)\n",
    "    DeltaC_move_based[:, 0] = BS.CallDelta(S[:, 0], T_call, K, sigma, r)\n",
    "    GammaP_move_based[:, 0] = BS.PutGamma(S[:, 0], T, K, sigma, r)\n",
    "    GammaC_move_based[:, 0] = BS.CallGamma(S[:, 0], T_call, K, sigma, r)\n",
    "    beta[:, 0] = GammaP_move_based[:, 0]/GammaC_move_based[:, 0]\n",
    "    alpha[:, 0] = DeltaP_move_based[:, 0] - beta[:, 0]*DeltaC_move_based[:, 0]\n",
    "    M_move_based[:, 0] = BS.PutPrice(S0, T, K, sigma, r) - alpha[:, 0] * S0 - phi_equity * np.abs(alpha[:, 0])\\\n",
    "            - beta[:, 0] * O[:, 0] - phi_option * np.abs(beta[:, 0])\n",
    "    # upper and lower bands are set around the delta of the put position\n",
    "    deviation_band = np.full(Nsim, bandwidth/2)\n",
    "    #deviation_band = bandwidth/2\n",
    "    '''upper_band = DeltaP_move_based[:, 0] + bandwidth/2\n",
    "    lower_band = DeltaP_move_based[:, 0] - bandwidth/2'''\n",
    "    for i in range(1, timestep+1):\n",
    "        temp_alpha = np.zeros((Nsim, 1))\n",
    "        temp_beta = np.zeros((Nsim, 1))\n",
    "        temp = np.zeros((Nsim, 1)) # here temp tracks the new put delta\n",
    "        DeltaP_move_based[:, i] = BS.PutDelta(S[:, i], T-i/365, K, sigma, r)\n",
    "        temp = DeltaP_move_based[:, i]\n",
    "        DeltaC_move_based[:, i] = BS.CallDelta(S[:, i], T_call-i/365, K, sigma, r)\n",
    "\n",
    "        GammaP_move_based[:, i] = BS.PutGamma(S[:, i], T-i/365, K, sigma, r)\n",
    "        GammaC_move_based[:, i] = BS.CallGamma(S[:, i], T_call-i/365, K, sigma, r)\n",
    "\n",
    "        temp_beta = GammaP_move_based[:, i]/GammaC_move_based[:, i]\n",
    "        temp_alpha = DeltaP_move_based[:, i] - temp_beta*DeltaC_move_based[:, i]\n",
    "        temp_delta_portfolio = alpha[:, i-1] + beta[:, i-1]*DeltaC_move_based[:, i] # calculate the portfolio delta\n",
    "\n",
    "        deviation = np.abs(temp_delta_portfolio-DeltaP_move_based[:, i]) # track the deviation of portfolio delta from put option delta\n",
    "\n",
    "        #locate the position of new delta\n",
    "        out_ub = np.greater_equal(temp,ub)\n",
    "        out_lb = np.less_equal(temp,lb)\n",
    "        out_band = (1-out_ub) * (1-out_lb) * np.greater_equal(deviation, deviation_band)\n",
    "        within_band = np.less(deviation, deviation_band)\n",
    "        # adjust (or retain) alpha and beta holdings based on delta position\n",
    "        alpha[:, i] = alpha[:, i-1]*(within_band+out_ub+out_lb) + temp_alpha*(out_band)\n",
    "        beta[:, i] = beta[:, i-1]*(within_band+out_ub+out_lb) + temp_beta*(out_band)\n",
    "        deviation_band = np.full(Nsim, bandwidth/2)\n",
    "        deviation_band[np.where(out_ub)] = 0.005\n",
    "        deviation_band[np.where(out_lb)] = 0.005\n",
    "    \n",
    "        '''lower_band = lower_band*(within_band+out_lb+out_ub) + (temp-bandwidth/2)*(out_uband+out_lband)\n",
    "        lower_band[np.where(out_ub)] = -0.01\n",
    "        lower_band[np.where(out_lb)] = -1'''\n",
    "        M_move_based[:, i] = M_move_based[:, i-1]*np.exp(r/365)*(within_band+out_ub+out_lb) +\\\n",
    "            get_M(M_move_based[:, i-1], r, 1/365, temp_alpha, alpha[:, i-1], S[:, i], phi_equity,temp_beta,beta[:, i-1],O[:, i],phi_option)*(out_band)\n",
    "    # at maturity, liquidate the put and hedge position, pay the difference in strike and stock price if counterparty exercise\n",
    "    M_move_based[:, -1] = M_move_based[:, -2] * np.exp(r/365) +\\\n",
    "            alpha[:, -2] * S[:, -1] - phi_equity * np.abs(alpha[:, -2]) \\\n",
    "                + beta[:, -2] * O[:, -1] - phi_option * np.abs(beta[:, -2]) \\\n",
    "                    + (S[:, -1] < K) * (- K + S[:, -1])\n",
    "    M_array = M_move_based[:, -1]\n",
    "   \n",
    "    '''plt.hist(M_array, bins = \"auto\")\n",
    "    plt.xlabel('Profit or Loss at time T')\n",
    "    plt.ylabel('count')\n",
    "    plt.title('P/L Distribution, Move-based Delta Hedge')\n",
    "    plt.savefig('Profit Distribition, Move-based Delta Hedge.png')'''\n",
    "    # calculate the VaR and adjusted price\n",
    "    confidence = 10\n",
    "    mean_hedge = np.average(M_array)\n",
    "    std_hedge = np.std(M_array)\n",
    "    VaR = np.percentile(M_array, confidence)\n",
    "    CVaR = np.mean(M_array[M_array<=VaR])\n",
    "    m = - CVaR - 0.02\n",
    "    m_discounted = m * np.exp(-r * T)\n",
    "    price_CVaR_Adjusted = BS.PutPrice(S0, T, K, sigma, r) + m_discounted\n",
    "    print(\"Calculated CVaR is {}, the price to chrage is ${}\".format(CVaR, price_CVaR_Adjusted))\n",
    "    results = pd.DataFrame({'Mean': mean_hedge, 'Standard deviation': std_hedge, 'VAR': VaR, 'CVAR': CVaR,'Adjusted Price': price_CVaR_Adjusted, \"Bandwidth\":bandwidth}, index=[0])\n",
    "    return(M_array, results)"
   ]
  },
  {
   "cell_type": "markdown",
   "metadata": {},
   "source": [
    "**Time_based**"
   ]
  },
  {
   "cell_type": "code",
   "execution_count": 7,
   "metadata": {},
   "outputs": [
    {
     "name": "stdout",
     "output_type": "stream",
     "text": [
      "Calculated CVaR is -0.3122555518227617, the price to chrage is $4.024205608514013\n"
     ]
    },
    {
     "data": {
      "text/html": [
       "<div>\n",
       "<style scoped>\n",
       "    .dataframe tbody tr th:only-of-type {\n",
       "        vertical-align: middle;\n",
       "    }\n",
       "\n",
       "    .dataframe tbody tr th {\n",
       "        vertical-align: top;\n",
       "    }\n",
       "\n",
       "    .dataframe thead th {\n",
       "        text-align: right;\n",
       "    }\n",
       "</style>\n",
       "<table border=\"1\" class=\"dataframe\">\n",
       "  <thead>\n",
       "    <tr style=\"text-align: right;\">\n",
       "      <th></th>\n",
       "      <th>Mean</th>\n",
       "      <th>Standard deviation</th>\n",
       "      <th>VAR</th>\n",
       "      <th>CVAR</th>\n",
       "      <th>Adjusted Price</th>\n",
       "    </tr>\n",
       "  </thead>\n",
       "  <tbody>\n",
       "    <tr>\n",
       "      <th>0</th>\n",
       "      <td>-0.137472</td>\n",
       "      <td>0.079159</td>\n",
       "      <td>-0.239659</td>\n",
       "      <td>-0.312256</td>\n",
       "      <td>4.024206</td>\n",
       "    </tr>\n",
       "  </tbody>\n",
       "</table>\n",
       "</div>"
      ],
      "text/plain": [
       "       Mean  Standard deviation       VAR      CVAR  Adjusted Price\n",
       "0 -0.137472            0.079159 -0.239659 -0.312256        4.024206"
      ]
     },
     "metadata": {},
     "output_type": "display_data"
    },
    {
     "name": "stdout",
     "output_type": "stream",
     "text": [
      "Calculated CVaR is -0.31672159166737857, the price to chrage is $4.0286493738919775\n"
     ]
    },
    {
     "data": {
      "image/png": "[encoded data removed]",
      "text/plain": [
       "<Figure size 432x288 with 1 Axes>"
      ]
     },
     "metadata": {
      "needs_background": "light"
     },
     "output_type": "display_data"
    }
   ],
   "source": [
    "display(Delta_Gamma_hedging_Time(S0, Nsim, timestep, T, K, mu, sigma, r)[1])\n",
    "M_array = Delta_Gamma_hedging_Time(S0, Nsim, timestep, T, K, mu, sigma, r)[0]\n",
    "plt.hist(M_array, bins = \"auto\")\n",
    "plt.xlabel('Profit or Loss at time T')\n",
    "plt.ylabel('count')\n",
    "plt.title('P/L Distribution, Time-based Delta_Gamma Hedge')\n",
    "plt.savefig('Profit Distribition, Time-based Delta_Gamma Hedge.png')"
   ]
  },
  {
   "cell_type": "markdown",
   "metadata": {},
   "source": [
    "**Move_based**"
   ]
  },
  {
   "cell_type": "code",
   "execution_count": 8,
   "metadata": {},
   "outputs": [
    {
     "name": "stdout",
     "output_type": "stream",
     "text": [
      "Calculated CVaR is -0.516529232523484, the price to chrage is $4.227460469981852\n"
     ]
    },
    {
     "data": {
      "text/html": [
       "<div>\n",
       "<style scoped>\n",
       "    .dataframe tbody tr th:only-of-type {\n",
       "        vertical-align: middle;\n",
       "    }\n",
       "\n",
       "    .dataframe tbody tr th {\n",
       "        vertical-align: top;\n",
       "    }\n",
       "\n",
       "    .dataframe thead th {\n",
       "        text-align: right;\n",
       "    }\n",
       "</style>\n",
       "<table border=\"1\" class=\"dataframe\">\n",
       "  <thead>\n",
       "    <tr style=\"text-align: right;\">\n",
       "      <th></th>\n",
       "      <th>Mean</th>\n",
       "      <th>Standard deviation</th>\n",
       "      <th>VAR</th>\n",
       "      <th>CVAR</th>\n",
       "      <th>Adjusted Price</th>\n",
       "      <th>Bandwidth</th>\n",
       "    </tr>\n",
       "  </thead>\n",
       "  <tbody>\n",
       "    <tr>\n",
       "      <th>0</th>\n",
       "      <td>-0.067157</td>\n",
       "      <td>0.302297</td>\n",
       "      <td>-0.38926</td>\n",
       "      <td>-0.516529</td>\n",
       "      <td>4.22746</td>\n",
       "      <td>0.1</td>\n",
       "    </tr>\n",
       "  </tbody>\n",
       "</table>\n",
       "</div>"
      ],
      "text/plain": [
       "       Mean  Standard deviation      VAR      CVAR  Adjusted Price  Bandwidth\n",
       "0 -0.067157            0.302297 -0.38926 -0.516529         4.22746        0.1"
      ]
     },
     "metadata": {},
     "output_type": "display_data"
    },
    {
     "name": "stdout",
     "output_type": "stream",
     "text": [
      "Calculated CVaR is -0.5134358706206863, the price to chrage is $4.224382536285909\n"
     ]
    },
    {
     "data": {
      "image/png": "[encoded data removed]",
      "text/plain": [
       "<Figure size 432x288 with 1 Axes>"
      ]
     },
     "metadata": {
      "needs_background": "light"
     },
     "output_type": "display_data"
    }
   ],
   "source": [
    "display(Delta_Gamma_hedging_Move_Deviation_based(S0, Nsim, timestep, T, K, mu, sigma, r, 0.1)[1])\n",
    "M_array = Delta_Gamma_hedging_Move_Deviation_based(S0, Nsim, timestep, T, K, mu, sigma, r, 0.1)[0]\n",
    "plt.hist(M_array, bins = \"auto\")\n",
    "plt.xlabel('Profit or Loss at time T')\n",
    "plt.ylabel('count')\n",
    "plt.title('P/L Distribution, Move-based Delta_Gamma Hedge')\n",
    "plt.savefig('Profit Distribition, Move-based Delta_Gamma Hedge.png')"
   ]
  },
  {
   "cell_type": "markdown",
   "metadata": {},
   "source": [
    "# 3. Results and Analysis"
   ]
  },
  {
   "cell_type": "markdown",
   "metadata": {},
   "source": [
    "**Scenario Test for Move-based Hedgings**    (Using KDE)"
   ]
  },
  {
   "cell_type": "markdown",
   "metadata": {},
   "source": [
    "1. Delta Hedging"
   ]
  },
  {
   "cell_type": "code",
   "execution_count": 10,
   "metadata": {},
   "outputs": [
    {
     "name": "stdout",
     "output_type": "stream",
     "text": [
      "Bandwidth = 0\n",
      "Calculated CVaR is -0.6887456876060433, the price to chrage is $4.398817991911325\n",
      "Bandwidth = 0.05\n",
      "Calculated CVaR is -0.7163873477428379, the price to chrage is $4.426321788693039\n",
      "Bandwidth = 0.1\n",
      "Calculated CVaR is -0.7984487446989345, the price to chrage is $4.507973902724339\n",
      "Bandwidth = 0.15\n",
      "Calculated CVaR is -0.9626148610322031, the price to chrage is $4.671321237136539\n",
      "Bandwidth = 0.2\n",
      "Calculated CVaR is -1.127021552778224, the price to chrage is $4.834907947086614\n"
     ]
    },
    {
     "data": {
      "image/png": "[encoded data removed]",
      "text/plain": [
       "<Figure size 432x288 with 1 Axes>"
      ]
     },
     "metadata": {
      "needs_background": "light"
     },
     "output_type": "display_data"
    },
    {
     "data": {
      "text/html": [
       "<div>\n",
       "<style scoped>\n",
       "    .dataframe tbody tr th:only-of-type {\n",
       "        vertical-align: middle;\n",
       "    }\n",
       "\n",
       "    .dataframe tbody tr th {\n",
       "        vertical-align: top;\n",
       "    }\n",
       "\n",
       "    .dataframe thead th {\n",
       "        text-align: right;\n",
       "    }\n",
       "</style>\n",
       "<table border=\"1\" class=\"dataframe\">\n",
       "  <thead>\n",
       "    <tr style=\"text-align: right;\">\n",
       "      <th></th>\n",
       "      <th>Mean</th>\n",
       "      <th>Standard deviation</th>\n",
       "      <th>VAR</th>\n",
       "      <th>CVAR</th>\n",
       "      <th>Adjusted Price</th>\n",
       "      <th>Bandwidth</th>\n",
       "    </tr>\n",
       "  </thead>\n",
       "  <tbody>\n",
       "    <tr>\n",
       "      <th>0</th>\n",
       "      <td>-0.012171</td>\n",
       "      <td>0.366843</td>\n",
       "      <td>-0.448456</td>\n",
       "      <td>-0.688746</td>\n",
       "      <td>4.398818</td>\n",
       "      <td>0.00</td>\n",
       "    </tr>\n",
       "    <tr>\n",
       "      <th>1</th>\n",
       "      <td>-0.018004</td>\n",
       "      <td>0.379930</td>\n",
       "      <td>-0.476077</td>\n",
       "      <td>-0.716387</td>\n",
       "      <td>4.426322</td>\n",
       "      <td>0.05</td>\n",
       "    </tr>\n",
       "    <tr>\n",
       "      <th>2</th>\n",
       "      <td>-0.014032</td>\n",
       "      <td>0.432309</td>\n",
       "      <td>-0.549619</td>\n",
       "      <td>-0.798449</td>\n",
       "      <td>4.507974</td>\n",
       "      <td>0.10</td>\n",
       "    </tr>\n",
       "    <tr>\n",
       "      <th>3</th>\n",
       "      <td>-0.016479</td>\n",
       "      <td>0.516737</td>\n",
       "      <td>-0.656909</td>\n",
       "      <td>-0.962615</td>\n",
       "      <td>4.671321</td>\n",
       "      <td>0.15</td>\n",
       "    </tr>\n",
       "    <tr>\n",
       "      <th>4</th>\n",
       "      <td>-0.010604</td>\n",
       "      <td>0.611701</td>\n",
       "      <td>-0.759198</td>\n",
       "      <td>-1.127022</td>\n",
       "      <td>4.834908</td>\n",
       "      <td>0.20</td>\n",
       "    </tr>\n",
       "  </tbody>\n",
       "</table>\n",
       "</div>"
      ],
      "text/plain": [
       "       Mean  Standard deviation       VAR      CVAR  Adjusted Price  Bandwidth\n",
       "0 -0.012171            0.366843 -0.448456 -0.688746        4.398818       0.00\n",
       "1 -0.018004            0.379930 -0.476077 -0.716387        4.426322       0.05\n",
       "2 -0.014032            0.432309 -0.549619 -0.798449        4.507974       0.10\n",
       "3 -0.016479            0.516737 -0.656909 -0.962615        4.671321       0.15\n",
       "4 -0.010604            0.611701 -0.759198 -1.127022        4.834908       0.20"
      ]
     },
     "metadata": {},
     "output_type": "display_data"
    }
   ],
   "source": [
    "Bandwidth = [0, 0.05, 0.1, 0.15, 0.2] # the list of bandwidths to test on\n",
    "frames = pd.DataFrame()\n",
    "for b in range(len(Bandwidth)):\n",
    "    print(\"Bandwidth = {}\".format(Bandwidth[b]))\n",
    "    M_array, output = Delta_hedging_Move(S0, Nsim, timestep, T, K, mu, sigma, r, Bandwidth[b])\n",
    "    frames = pd.concat([frames, output], ignore_index=True, sort=False) # record the output\n",
    "    sns.kdeplot(M_array, linewidth = 0.8, label = 'Bandwidth ={}'.format(Bandwidth[b])) # kde plots of PnL at each bandwidth\n",
    "    plt.title(\"PnL of Moved-based Delta Hedging\")\n",
    "plt.legend()\n",
    "plt.savefig('PnL of Moved-based Delta Hedging.png')\n",
    "plt.show()\n",
    "display(frames)\n"
   ]
  },
  {
   "cell_type": "markdown",
   "metadata": {},
   "source": [
    "2. Delta_Gamma Hedging"
   ]
  },
  {
   "cell_type": "code",
   "execution_count": null,
   "metadata": {},
   "outputs": [
    {
     "name": "stdout",
     "output_type": "stream",
     "text": [
      "Bandwidth = 0\n",
      "Calculated CVaR is -0.327516218370906, the price to chrage is $4.039390162170214\n",
      "Bandwidth = 0.05\n",
      "Calculated CVaR is -0.2954126814341695, the price to chrage is $4.007446742291938\n",
      "Bandwidth = 0.1\n",
      "Calculated CVaR is -0.292360718903267, the price to chrage is $4.004410001487662\n",
      "Bandwidth = 0.15\n",
      "Calculated CVaR is -0.3255196643961151, the price to chrage is $4.037403566049916\n",
      "Bandwidth = 0.2\n",
      "Calculated CVaR is -0.36805704867273664, the price to chrage is $4.079728794237369\n"
     ]
    },
    {
     "data": {
      "image/png": "[encoded data removed]",
      "text/plain": [
       "<Figure size 640x480 with 1 Axes>"
      ]
     },
     "metadata": {},
     "output_type": "display_data"
    },
    {
     "data": {
      "text/html": [
       "<div>\n",
       "<style scoped>\n",
       "    .dataframe tbody tr th:only-of-type {\n",
       "        vertical-align: middle;\n",
       "    }\n",
       "\n",
       "    .dataframe tbody tr th {\n",
       "        vertical-align: top;\n",
       "    }\n",
       "\n",
       "    .dataframe thead th {\n",
       "        text-align: right;\n",
       "    }\n",
       "</style>\n",
       "<table border=\"1\" class=\"dataframe\">\n",
       "  <thead>\n",
       "    <tr style=\"text-align: right;\">\n",
       "      <th></th>\n",
       "      <th>Mean</th>\n",
       "      <th>Standard deviation</th>\n",
       "      <th>VAR</th>\n",
       "      <th>CVAR</th>\n",
       "      <th>Adjusted Price</th>\n",
       "      <th>Bandwidth</th>\n",
       "    </tr>\n",
       "  </thead>\n",
       "  <tbody>\n",
       "    <tr>\n",
       "      <th>0</th>\n",
       "      <td>-0.136428</td>\n",
       "      <td>0.112884</td>\n",
       "      <td>-0.256119</td>\n",
       "      <td>-0.327516</td>\n",
       "      <td>4.039390</td>\n",
       "      <td>0.00</td>\n",
       "    </tr>\n",
       "    <tr>\n",
       "      <th>1</th>\n",
       "      <td>-0.118449</td>\n",
       "      <td>0.121158</td>\n",
       "      <td>-0.236293</td>\n",
       "      <td>-0.295413</td>\n",
       "      <td>4.007447</td>\n",
       "      <td>0.05</td>\n",
       "    </tr>\n",
       "    <tr>\n",
       "      <th>2</th>\n",
       "      <td>-0.102987</td>\n",
       "      <td>0.142118</td>\n",
       "      <td>-0.240888</td>\n",
       "      <td>-0.292361</td>\n",
       "      <td>4.004410</td>\n",
       "      <td>0.10</td>\n",
       "    </tr>\n",
       "    <tr>\n",
       "      <th>3</th>\n",
       "      <td>-0.090326</td>\n",
       "      <td>0.178336</td>\n",
       "      <td>-0.264747</td>\n",
       "      <td>-0.325520</td>\n",
       "      <td>4.037404</td>\n",
       "      <td>0.15</td>\n",
       "    </tr>\n",
       "    <tr>\n",
       "      <th>4</th>\n",
       "      <td>-0.082605</td>\n",
       "      <td>0.217646</td>\n",
       "      <td>-0.296410</td>\n",
       "      <td>-0.368057</td>\n",
       "      <td>4.079729</td>\n",
       "      <td>0.20</td>\n",
       "    </tr>\n",
       "  </tbody>\n",
       "</table>\n",
       "</div>"
      ],
      "text/plain": [
       "       Mean  Standard deviation       VAR      CVAR  Adjusted Price  Bandwidth\n",
       "0 -0.136428            0.112884 -0.256119 -0.327516        4.039390       0.00\n",
       "1 -0.118449            0.121158 -0.236293 -0.295413        4.007447       0.05\n",
       "2 -0.102987            0.142118 -0.240888 -0.292361        4.004410       0.10\n",
       "3 -0.090326            0.178336 -0.264747 -0.325520        4.037404       0.15\n",
       "4 -0.082605            0.217646 -0.296410 -0.368057        4.079729       0.20"
      ]
     },
     "metadata": {},
     "output_type": "display_data"
    }
   ],
   "source": [
    "Bandwidth = [0, 0.05, 0.1, 0.15, 0.2]\n",
    "frames = pd.DataFrame()\n",
    "for b in range(len(Bandwidth)):\n",
    "    print(\"Bandwidth = {}\".format(Bandwidth[b]))\n",
    "    M_array, output = Delta_Gamma_hedging_Move_Deviation_based(S0, Nsim, timestep, T, K, mu, sigma, r, Bandwidth[b])\n",
    "    frames = pd.concat([frames, output], ignore_index=True, sort=False)\n",
    "    sns.kdeplot(M_array, linewidth = 0.8, bw_method = 0.05, label = 'Bandwidth ={}'.format(Bandwidth[b]))\n",
    "    plt.title(\"PnL of Moved-based Delta_Gamma Hedging\")\n",
    "plt.legend()\n",
    "plt.savefig('PnL of Moved-based Delta_Gamma Hedging.png')\n",
    "plt.show()\n",
    "display(frames)\n"
   ]
  }
 ],
 "metadata": {
  "kernelspec": {
   "display_name": "Python 3.8.3 ('base')",
   "language": "python",
   "name": "python3"
  },
  "language_info": {
   "codemirror_mode": {
    "name": "ipython",
    "version": 3
   },
   "file_extension": ".py",
   "mimetype": "text/x-python",
   "name": "python",
   "nbconvert_exporter": "python",
   "pygments_lexer": "ipython3",
   "version": "3.8.3"
  },
  "orig_nbformat": 4,
  "vscode": {
   "interpreter": {
    "hash": "365c3117cd73ecda406b240a8a76401c3012f1a0ba36609127a00a1ed2115b6b"
   }
  }
 },
 "nbformat": 4,
 "nbformat_minor": 2
}
